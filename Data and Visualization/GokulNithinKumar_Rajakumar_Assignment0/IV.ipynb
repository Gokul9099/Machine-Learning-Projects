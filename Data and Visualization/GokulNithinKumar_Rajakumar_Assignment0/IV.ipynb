{
 "cells": [
  {
   "cell_type": "markdown",
   "metadata": {},
   "source": [
    "# Assignment 0 Conclusion & References\n",
    "Name: Gokul Nithin Kumar Rajakumar\n",
    "Student ID: 801082252"
   ]
  },
  {
   "cell_type": "markdown",
   "metadata": {},
   "source": [
    "# IV Conclusion\n",
    "\n",
    "     Thus we have summarised and understood the basic concepts behind Linear Algebra and Probability.\n",
    "     We have also learned how to visualize the given dataset in different angles and also how to preprocess the data before visualzing them. \n",
    "     We have also learned new inferences from the raw datasets which will be useful for us to create new models for these datasets thereby providing better predictions.   "
   ]
  },
  {
   "cell_type": "markdown",
   "metadata": {},
   "source": [
    "# V References\n",
    "\n",
    "Kris, Weather archive Jena, Kaggle dataset, Retrieved from https://www.kaggle.com/pankrzysiu/weather-archive-jena/discussion\n",
    "\n",
    "Xavier, Barcelona data sets, Kaggle dataset, Retrieved from https://www.kaggle.com/xvivancos/barcelona-data-sets/home\n",
    "\n",
    "Goodfellow-et-al-2016, Deep Learning, Ian Goodfellow and Yoshua Bengio and Aaron Courville, MIT Press, Retrieved from http://www.deeplearningbook.org, 2016.\n",
    "\n"
   ]
  }
 ],
 "metadata": {
  "kernelspec": {
   "display_name": "Python 3",
   "language": "python",
   "name": "python3"
  },
  "language_info": {
   "codemirror_mode": {
    "name": "ipython",
    "version": 3
   },
   "file_extension": ".py",
   "mimetype": "text/x-python",
   "name": "python",
   "nbconvert_exporter": "python",
   "pygments_lexer": "ipython3",
   "version": "3.6.5"
  }
 },
 "nbformat": 4,
 "nbformat_minor": 2
}
