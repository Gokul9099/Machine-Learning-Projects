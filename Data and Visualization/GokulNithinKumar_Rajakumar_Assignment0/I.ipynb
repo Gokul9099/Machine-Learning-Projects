{
 "cells": [
  {
   "cell_type": "markdown",
   "metadata": {},
   "source": [
    "# Assignment 0 \n",
    "Name: Gokul Nithin Kumar Rajakumar\n",
    "Student ID: 801082252"
   ]
  },
  {
   "cell_type": "markdown",
   "metadata": {},
   "source": [
    "# Introduction\n",
    "\n",
    "      This assignment is mainly based on understanding the concepts of Linear Algebra and Probability and Information Theory.\n",
    "      This assignment also intoduces the concept of Data Visualization on how to visualize a data graphically so that we could get new inferences about the data. \n",
    "      The First dataset is all about predicting temperature forecasting. The Data is recorded for aver a period of seven years at Max Planck Institute for Biogeochemistry in Jena, Germany from 2009-2016. The datas were recorded every 10 minutes. From this dataset we could predict the weather forecast in upcoming days, months and years.\n",
    "      \n",
    "      The second dataset is all about predicting the number of accidents that happened during the period in the city of Barcelona, by incorporating the number of mild and serious injuries, the number of vehicles that were resposible for the accident and the point of impact. From this dataset we could predict the number of accidents during which part of the day,week, month and year so that we could try to avoid accidents before they take place by increasing the traffic control in such areas."
   ]
  }
 ],
 "metadata": {
  "kernelspec": {
   "display_name": "Python 3",
   "language": "python",
   "name": "python3"
  },
  "language_info": {
   "codemirror_mode": {
    "name": "ipython",
    "version": 3
   },
   "file_extension": ".py",
   "mimetype": "text/x-python",
   "name": "python",
   "nbconvert_exporter": "python",
   "pygments_lexer": "ipython3",
   "version": "3.6.5"
  }
 },
 "nbformat": 4,
 "nbformat_minor": 2
}
